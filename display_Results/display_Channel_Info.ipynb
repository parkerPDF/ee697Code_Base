{
 "metadata": {
  "language_info": {
   "codemirror_mode": {
    "name": "ipython",
    "version": 3
   },
   "file_extension": ".py",
   "mimetype": "text/x-python",
   "name": "python",
   "nbconvert_exporter": "python",
   "pygments_lexer": "ipython3",
   "version": "3.9.4"
  },
  "orig_nbformat": 4,
  "kernelspec": {
   "name": "python3",
   "display_name": "Python 3.9.4 64-bit"
  },
  "interpreter": {
   "hash": "26169d9c193f7cd5820e377ba54523d16973b5786da5fd4498564bb09d5057c5"
  }
 },
 "nbformat": 4,
 "nbformat_minor": 2,
 "cells": [
  {
   "cell_type": "code",
   "execution_count": null,
   "source": [
    "import os\r\n",
    "import glob\r\n",
    "from matplotlib import pyplot as plt\r\n",
    "import re\r\n",
    "import numpy as np"
   ],
   "outputs": [],
   "metadata": {}
  },
  {
   "cell_type": "code",
   "execution_count": null,
   "source": [
    "path = r'C:\\Users\\parkf\\Desktop\\summer2021\\htcChNorm' #this will be where ever you store '.out' files with channel information on MSE\r\n",
    "showChannels = 0 #toggel to 1 if you want to see a graph for every channel, 0 if you want only subject level info\r\n",
    "\r\n",
    "subjectList = []\r\n",
    "ridgeVec = []\r\n",
    "memVec = []\r\n",
    "foldVec = []\r\n",
    "channelDict = {}\r\n",
    "\r\n",
    "for filename in glob.glob(os.path.join(path, '*.out')): #scan the folder to determine the size of the array we'll need\r\n",
    "    parseThis = os.path.basename(filename)\r\n",
    "    fileNum, parseThis = re.split('L|R|B', parseThis)\r\n",
    "    memNum, parseThis = re.split('r', parseThis)\r\n",
    "    memNum = re.split('p', memNum)[1]\r\n",
    "    ridgeNum, parseThis = re.split('c', parseThis)\r\n",
    "    foldNum = re.split('.o', parseThis)[0]\r\n",
    "    if int(fileNum) not in subjectList:\r\n",
    "        subjectList.append(int(fileNum))\r\n",
    "        f = open(filename, \"r\")\r\n",
    "        hold = f.read()\r\n",
    "        channelDict[subjectList.index(int(fileNum))] = len(re.split(',', hold)) - 1\r\n",
    "    if int(memNum) not in memVec:\r\n",
    "        memVec.append(int(memNum))\r\n",
    "    if float(ridgeNum) not in ridgeVec:\r\n",
    "        ridgeVec.append(float(ridgeNum))\r\n",
    "    if int(foldNum) not in foldVec:\r\n",
    "        foldVec.append(int(foldNum))\r\n",
    "\r\n",
    "for subject in range(len(subjectList)): #loop through again to actually fill out array \r\n",
    "    #we can't just hold everything here since some subjects will have different amounts of channels\r\n",
    "    err = np.zeros((len(ridgeVec), len(memVec), channelDict[subject], len(foldVec)))\r\n",
    "    for filename in glob.glob(os.path.join(path, '*.out')):\r\n",
    "        parseThis = os.path.basename(filename)\r\n",
    "        fileNum, parseThis = re.split('L|R|B', parseThis)\r\n",
    "        if int(fileNum) != subjectList[subject]:\r\n",
    "            continue\r\n",
    "        memNum, parseThis = re.split('r', parseThis)\r\n",
    "        memNum = re.split('p', memNum)[1]\r\n",
    "        ridgeNum, parseThis = re.split('c', parseThis)\r\n",
    "        foldNum = re.split('.o', parseThis)[0]\r\n",
    "        f = open(filename, \"r\")\r\n",
    "        hold = f.read()\r\n",
    "        x = np.array(re.split(\",\", hold))[0:channelDict[subject]]\r\n",
    "        for ch in range(len(x)):\r\n",
    "            err[ridgeVec.index(float(ridgeNum)), memVec.index(int(memNum)), ch, int(foldNum)] = float(x[ch])\r\n",
    "    errNoCv = np.mean(err, 3)\r\n",
    "    if showChannels == 1:\r\n",
    "        for ch in range(len(x)):\r\n",
    "            titleString = f\"Memory vs MSE, for subject {subjectList[subject]}, channel {ch}\"\r\n",
    "            plt.title(titleString)\r\n",
    "            for i in range(len(ridgeVec)):\r\n",
    "                plt.plot(memVec[:], errNoCv[i , :, ch], \".\", label = f\"lambda = {ridgeVec[i]}\") ## figure out columns to pass\r\n",
    "            plt.legend()\r\n",
    "            plt.show()\r\n",
    "    errNoCh = np.mean(errNoCv, 2)\r\n",
    "    titleString = f\"Memory vs MSE, for subject {subjectList[subject]}, channel's averaged\"\r\n",
    "    plt.title(titleString)\r\n",
    "    for i in range(len(ridgeVec)):\r\n",
    "        plt.plot(memVec[:], errNoCh[i , :], \".\", label = f\"lambda = {ridgeVec[i]}\") ## figure out columns to pass\r\n",
    "        plt.xlabel(\"Number of memory points\")\r\n",
    "        plt.ylabel(\"MSE\")\r\n",
    "    plt.legend()\r\n",
    "    plt.show()\r\n"
   ],
   "outputs": [],
   "metadata": {}
  }
 ]
}