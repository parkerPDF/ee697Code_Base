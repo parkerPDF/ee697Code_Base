{
 "metadata": {
  "language_info": {
   "codemirror_mode": {
    "name": "ipython",
    "version": 3
   },
   "file_extension": ".py",
   "mimetype": "text/x-python",
   "name": "python",
   "nbconvert_exporter": "python",
   "pygments_lexer": "ipython3",
   "version": "3.9.4"
  },
  "orig_nbformat": 4,
  "kernelspec": {
   "name": "python3",
   "display_name": "Python 3.9.4 64-bit"
  },
  "interpreter": {
   "hash": "26169d9c193f7cd5820e377ba54523d16973b5786da5fd4498564bb09d5057c5"
  }
 },
 "nbformat": 4,
 "nbformat_minor": 2,
 "cells": [
  {
   "cell_type": "code",
   "execution_count": null,
   "source": [
    "import os\r\n",
    "import glob\r\n",
    "from matplotlib import pyplot as plt\r\n",
    "import re\r\n",
    "import numpy as np"
   ],
   "outputs": [],
   "metadata": {}
  },
  {
   "cell_type": "code",
   "execution_count": null,
   "source": [
    "path = r'C:\\Users\\parkf\\Desktop\\summer2021\\htcStaticSingular' #this will be where ever you store '.out' files with no channel information on MSE\r\n",
    "\r\n",
    "subjectList = []\r\n",
    "ridgeVec = []\r\n",
    "memVec = []\r\n",
    "foldVec = []\r\n",
    "\r\n",
    "for filename in glob.glob(os.path.join(path, '*.out')): #scan the folder to determine the size of the array we'll need\r\n",
    "    parseThis = os.path.basename(filename)\r\n",
    "    fileNum, parseThis = re.split('L|R|B', parseThis)\r\n",
    "    memNum, parseThis = re.split('r', parseThis)\r\n",
    "    memNum = re.split('p', memNum)[1]\r\n",
    "    ridgeNum, parseThis = re.split('c', parseThis)\r\n",
    "    foldNum = re.split('.o', parseThis)[0]\r\n",
    "    if int(fileNum) not in subjectList:\r\n",
    "        subjectList.append(int(fileNum))\r\n",
    "    if int(memNum) not in memVec:\r\n",
    "        memVec.append(int(memNum))\r\n",
    "    if float(ridgeNum) not in ridgeVec:\r\n",
    "        ridgeVec.append(float(ridgeNum))\r\n",
    "    if int(foldNum) not in foldVec:\r\n",
    "        foldVec.append(int(foldNum))\r\n",
    "\r\n",
    "err = np.zeros((len(subjectList), len(memVec), len(ridgeVec), len(foldVec))) #loop through again to actually fill out array\r\n",
    "for filename in glob.glob(os.path.join(path, '*.out')):\r\n",
    "    parseThis = os.path.basename(filename)\r\n",
    "    fileNum, parseThis = re.split('L|R|B', parseThis)\r\n",
    "    memNum, parseThis = re.split('r', parseThis)\r\n",
    "    memNum = re.split('p', memNum)[1]\r\n",
    "    ridgeNum, parseThis = re.split('c', parseThis)\r\n",
    "    foldNum = re.split('.o', parseThis)[0]\r\n",
    "    f = open(filename,\"r\")\r\n",
    "    error = (float(f.read()))\r\n",
    "    err[subjectList.index(int(fileNum)), memVec.index(int(memNum)), ridgeVec.index(float(ridgeNum)), int(foldNum)] = error\r\n",
    "      \r\n",
    "            \r\n",
    "errNoCv = np.mean(err,3)\r\n",
    "    "
   ],
   "outputs": [],
   "metadata": {}
  },
  {
   "cell_type": "code",
   "execution_count": null,
   "source": [
    "for n in range(len(subjectList)):\r\n",
    "    titleString = f\"Memory vs MSE, for subject {subjectList[n]}\"\r\n",
    "    plt.title(titleString)\r\n",
    "    for i in range(0, len(ridgeVec)):#for modifying what lambdas to display\r\n",
    "        plt.plot(memVec[:], errNoCv[n , :, i], \".\", label = f\"lambda = {ridgeVec[i]}\") ## figure out columns to pass\r\n",
    "    plt.legend()\r\n",
    "    plt.xlabel(\"Number of memory points\")\r\n",
    "    plt.ylabel(\"MSE\")\r\n",
    "    plt.show()"
   ],
   "outputs": [],
   "metadata": {}
  },
  {
   "cell_type": "code",
   "execution_count": null,
   "source": [],
   "outputs": [],
   "metadata": {}
  }
 ]
}