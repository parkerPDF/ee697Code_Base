{
 "metadata": {
  "language_info": {
   "codemirror_mode": {
    "name": "ipython",
    "version": 3
   },
   "file_extension": ".py",
   "mimetype": "text/x-python",
   "name": "python",
   "nbconvert_exporter": "python",
   "pygments_lexer": "ipython3",
   "version": "3.9.4"
  },
  "orig_nbformat": 4,
  "kernelspec": {
   "name": "python3",
   "display_name": "Python 3.9.4 64-bit"
  },
  "interpreter": {
   "hash": "26169d9c193f7cd5820e377ba54523d16973b5786da5fd4498564bb09d5057c5"
  }
 },
 "nbformat": 4,
 "nbformat_minor": 2,
 "cells": [
  {
   "cell_type": "code",
   "execution_count": null,
   "source": [
    "import sklearn\r\n",
    "from sklearn.linear_model import Ridge\r\n",
    "from scipy.io import loadmat\r\n",
    "import numpy as np\r\n",
    "from matplotlib import pyplot as plt\r\n",
    "import functionList"
   ],
   "outputs": [],
   "metadata": {}
  },
  {
   "cell_type": "code",
   "execution_count": null,
   "source": [
    "raw = loadmat(r\"C:\\Users\\parkf\\Desktop\\summer2021\\eegData\\for_Barry\\282L.mat\") #change this to try different one off files\r\n",
    "X = raw['data']  \r\n",
    "mask = raw['mask']\r\n",
    "l = X.shape[0]\r\n",
    "c = X.shape[1]"
   ],
   "outputs": [],
   "metadata": {}
  },
  {
   "cell_type": "code",
   "execution_count": null,
   "source": [
    "memVec = [4, 8, 12]\r\n",
    "ridgeVec = [.1, .5, 1]\r\n",
    "showChannels = 1 #toggel between 0 and 1 for channel by channel info\r\n",
    "\r\n",
    "cvNum = 3\r\n",
    "\r\n",
    "s = (len(memVec), len(ridgeVec), c, cvNum)\r\n",
    "error = np.zeros(s)\r\n",
    "for memNumber in memVec:\r\n",
    "    featureMat = functionList.buildFeatureMat(X,memNumber)\r\n",
    "    xClean = functionList.removeTrash(X,mask,memNumber)\r\n",
    "    featureMat = functionList.removeTrash(featureMat,mask,memNumber)\r\n",
    "    for regularizer in ridgeVec: \r\n",
    "        crossVal = sklearn.model_selection.KFold(n_splits=cvNum)\r\n",
    "        for thisChannel in range(c):\r\n",
    "            adjustedReg = regularizer*np.linalg.norm(xClean[:,thisChannel])\r\n",
    "            cvRun = 0\r\n",
    "            for train, test in crossVal.split(featureMat):\r\n",
    "                pred = functionList.predRrOutput(featureMat[train,:], featureMat[test,:], xClean[train,thisChannel], adjustedReg, 0)\r\n",
    "                err = functionList.findMSE(pred, xClean[test,thisChannel])\r\n",
    "                error[memVec.index(memNumber), ridgeVec.index(regularizer), thisChannel, cvRun] = err\r\n",
    "                cvRun = cvRun + 1\r\n",
    "errNoCv = np.mean(error, 3)\r\n",
    "errNoCh = np.mean(errNoCv, 2)"
   ],
   "outputs": [],
   "metadata": {}
  },
  {
   "cell_type": "code",
   "execution_count": null,
   "source": [
    "if showChannels == 1:\r\n",
    "    for ch in range(c):\r\n",
    "        titleString = f\"Memory vs MSE, channel {ch}\"\r\n",
    "        plt.title(titleString)\r\n",
    "        for i in range(len(ridgeVec)):\r\n",
    "            plt.plot(memVec[:], errNoCv[:, i, ch], \".\", label = f\"lambda = {ridgeVec[i]}\") ## figure out columns to pass\r\n",
    "        plt.legend()\r\n",
    "        plt.show()\r\n",
    "\r\n",
    "titleString = f\"Memory vs MSE, for subject, channel's averaged\"\r\n",
    "plt.title(titleString)\r\n",
    "for i in range(len(ridgeVec)):\r\n",
    "    plt.plot(memVec[:], errNoCh[:, i], \".\", label = f\"lambda = {ridgeVec[i]}\") ## figure out columns to pass\r\n",
    "    plt.xlabel(\"Number of memory points\")\r\n",
    "    plt.ylabel(\"MSE\")\r\n",
    "plt.legend()\r\n",
    "plt.show()\r\n"
   ],
   "outputs": [],
   "metadata": {}
  }
 ]
}