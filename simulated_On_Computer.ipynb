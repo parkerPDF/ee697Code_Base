{
 "metadata": {
  "language_info": {
   "codemirror_mode": {
    "name": "ipython",
    "version": 3
   },
   "file_extension": ".py",
   "mimetype": "text/x-python",
   "name": "python",
   "nbconvert_exporter": "python",
   "pygments_lexer": "ipython3",
   "version": "3.9.4"
  },
  "orig_nbformat": 4,
  "kernelspec": {
   "name": "python3",
   "display_name": "Python 3.9.4 64-bit"
  },
  "interpreter": {
   "hash": "26169d9c193f7cd5820e377ba54523d16973b5786da5fd4498564bb09d5057c5"
  }
 },
 "nbformat": 4,
 "nbformat_minor": 2,
 "cells": [
  {
   "cell_type": "code",
   "execution_count": null,
   "source": [
    "from random import gauss\r\n",
    "from random import seed\r\n",
    "from pandas import Series\r\n",
    "import numpy as np\r\n",
    "from matplotlib import pyplot as plt\r\n",
    "from sklearn.linear_model import Ridge\r\n",
    "import sklearn\r\n",
    "import functionList"
   ],
   "outputs": [],
   "metadata": {}
  },
  {
   "cell_type": "code",
   "execution_count": null,
   "source": [
    "###### THIS IS THE CODE BLOCK THAT CREATES THE SIMULATED DATA ################\r\n",
    "\r\n",
    "\r\n",
    "l = 5000 #change the length of the data if you want\r\n",
    "eSeriesX = np.zeros((5,l))\r\n",
    "c = 5\r\n",
    "\r\n",
    "for i in range(5):\r\n",
    "    seed(i)\r\n",
    "    series = [gauss(0.0, 1.0) for i in range(l)]\r\n",
    "    eSeriesX[i,:] = Series(series)\r\n",
    "\r\n",
    "X = np.zeros((5,l))\r\n",
    "for i in range(l):\r\n",
    "    X[0,i] = .95*np.sqrt(2)*X[0,i-1] - .9025*X[0,i-2] + eSeriesX[0,i]\r\n",
    "    X[1,i] = .5*X[0,i-2] + eSeriesX[1,i]\r\n",
    "    X[2,i] = -.4*X[0,i-3] + eSeriesX[2,i]\r\n",
    "    X[3,i] = -.5*X[0,i-2] + .25*np.sqrt(2)*X[3,i-1] + .25*np.sqrt(2)*X[4,i-1] + eSeriesX[3,i]\r\n",
    "    X[4,i] = -.25*np.sqrt(2)*X[3,i-1] + .25*np.sqrt(2)*X[4,i-1] + eSeriesX[4,i]\r\n",
    "X = np.transpose(X)\r\n"
   ],
   "outputs": [],
   "metadata": {}
  },
  {
   "cell_type": "code",
   "execution_count": null,
   "source": [
    "memVec = [1, 2, 3, 4, 5]\r\n",
    "ridgeVec = [.1, .5, 1]\r\n",
    "use_NormY_Regularizer = 1 #include a switch between normY and length of Y as a regularizer\r\n",
    "\r\n",
    "cvNum = 3\r\n",
    "\r\n",
    "if use_NormY_Regularizer == 1:\r\n",
    "    s = (len(memVec), len(ridgeVec), c, cvNum)\r\n",
    "    error = np.zeros(s)\r\n",
    "    for memNumber in memVec:\r\n",
    "        featureMat = functionList.buildFeatureMat(X,memNumber)\r\n",
    "        xClean = X\r\n",
    "        for regularizer in ridgeVec: \r\n",
    "            crossVal = sklearn.model_selection.KFold(n_splits=cvNum)\r\n",
    "            for thisChannel in range(c):\r\n",
    "                adjustedReg = regularizer*np.linalg.norm(xClean[:,thisChannel])\r\n",
    "                cvRun = 0\r\n",
    "                for train, test in crossVal.split(featureMat):\r\n",
    "                    pred = functionList.predRrOutput(featureMat[train,:], featureMat[test,:], xClean[train,thisChannel], adjustedReg, 0)\r\n",
    "                    err = functionList.findMSE(pred, xClean[test,thisChannel])\r\n",
    "                    error[memVec.index(memNumber), ridgeVec.index(regularizer), thisChannel, cvRun] = err\r\n",
    "                    cvRun = cvRun + 1\r\n",
    "    errNoCv = np.mean(error, 3)\r\n",
    "    errNoCh = np.mean(errNoCv, 2)\r\n",
    "else:\r\n",
    "    s = (len(memVec), len(ridgeVec), cvNum)\r\n",
    "    error = np.zeros(s)\r\n",
    "    ridgeVecNormal = np.dot(ridgeVec,l) #use a regularization parameter that is based on length\r\n",
    "    for memNumber in memVec:\r\n",
    "        featureMat = functionList.buildFeatureMat(X,memNumber)\r\n",
    "        xClean = X\r\n",
    "        for regularizer in ridgeVecNormal: \r\n",
    "            RR = Ridge(alpha=regularizer)\r\n",
    "            crossVal = sklearn.model_selection.KFold(n_splits=cvNum)\r\n",
    "            cvRun = 0\r\n",
    "            for train, test in crossVal.split(featureMat):\r\n",
    "                RR.fit(featureMat[train,:],xClean[train])\r\n",
    "                pred = RR.predict(featureMat[test])\r\n",
    "                error[memVec.index(memNumber), ridgeVec.index(regularizer/l), cvRun] = functionList.findMSE(pred, xClean[test])\r\n",
    "                cvRun = cvRun + 1\r\n",
    "    errNoCh = np.mean(error, 2)"
   ],
   "outputs": [],
   "metadata": {}
  },
  {
   "cell_type": "code",
   "execution_count": null,
   "source": [
    "showChannels = 1 #toggel between 0 and 1 for channel by channel info\r\n",
    "#this is only valid if you used use_NormY_Regularizer == 1\r\n",
    "\r\n",
    "if showChannels == 1 & use_NormY_Regularizer == 1:\r\n",
    "    for ch in range(c):\r\n",
    "        titleString = f\"Memory vs MSE, channel {ch}\"\r\n",
    "        plt.title(titleString)\r\n",
    "        for i in range(len(ridgeVec)):\r\n",
    "            plt.plot(memVec[:], errNoCv[: , i, ch], \".\", label = f\"lambda = {ridgeVec[i]}\") ## figure out columns to pass\r\n",
    "        plt.legend()\r\n",
    "        plt.show()\r\n",
    "\r\n",
    "if use_NormY_Regularizer == 1:\r\n",
    "    titleString = f\"Memory vs MSE, channel's averaged\"\r\n",
    "else:\r\n",
    "    titleString = f\"Memory vs MSE\"\r\n",
    "plt.title(titleString)\r\n",
    "for i in range(len(ridgeVec)):\r\n",
    "    plt.plot(memVec[:], errNoCh[:, i], \".\", label = f\"lambda = {ridgeVec[i]}\") ## figure out columns to pass\r\n",
    "    plt.xlabel(\"Number of memory points\")\r\n",
    "    plt.ylabel(\"MSE\")\r\n",
    "plt.legend()\r\n",
    "plt.show()"
   ],
   "outputs": [],
   "metadata": {}
  }
 ]
}